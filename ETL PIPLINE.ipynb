{
 "cells": [
  {
   "cell_type": "code",
   "execution_count": 0,
   "metadata": {
    "application/vnd.databricks.v1+cell": {
     "cellMetadata": {},
     "collapsed": true,
     "inputWidgets": {},
     "nuid": "619bac23-21c2-4b44-9039-0bf76de1d7ba",
     "showTitle": true,
     "title": "                        ETL Pipeline for Glacial Mass Balance Analysis with PySpark"
    }
   },
   "outputs": [],
   "source": []
  },
  {
   "cell_type": "code",
   "execution_count": 0,
   "metadata": {
    "application/vnd.databricks.v1+cell": {
     "cellMetadata": {
      "byteLimit": 2048000,
      "implicitDf": true,
      "rowLimit": 10000
     },
     "inputWidgets": {},
     "nuid": "b5c37170-7250-4ac6-92d9-e6bbed11ffed",
     "showTitle": false,
     "title": ""
    }
   },
   "outputs": [],
   "source": [
    "#mport the necessary libraries\n",
    "import requests\n",
    "from pyspark.sql import DataFrame"
   ]
  },
  {
   "cell_type": "code",
   "execution_count": 0,
   "metadata": {
    "application/vnd.databricks.v1+cell": {
     "cellMetadata": {
      "byteLimit": 2048000,
      "rowLimit": 10000
     },
     "inputWidgets": {},
     "nuid": "a44e8dae-c123-4dfc-96ef-22a7ab45870b",
     "showTitle": false,
     "title": ""
    }
   },
   "outputs": [],
   "source": [
    "#Download a CSV file from a URL and save it locally as 'glacier.csv' using the requests library:\n",
    "\n",
    "# Open a connection to the specified URL and retrieve the content in chunks\n",
    "with requests.get('https://datahub.io/core/glacier-mass-balance/r/glaciers.csv', stream=True) as r:\n",
    "  \n",
    "  # Open a local file in binary write mode to save the downloaded content\n",
    "  with open('/dbfs/glacier.csv', 'wb') as f:\n",
    "    \n",
    "    # Iterate over the content in chunks (each of size 8192 bytes)\n",
    "    for chunk in r.iter_content(chunk_size=8192):\n",
    "      \n",
    "      # Write the current chunk of content to the local file\n",
    "      f.write(chunk)\n"
   ]
  },
  {
   "cell_type": "code",
   "execution_count": 0,
   "metadata": {
    "application/vnd.databricks.v1+cell": {
     "cellMetadata": {
      "byteLimit": 2048000,
      "rowLimit": 10000
     },
     "inputWidgets": {},
     "nuid": "097c6bb2-5446-466d-9448-f5443ec9749c",
     "showTitle": false,
     "title": ""
    }
   },
   "outputs": [],
   "source": [
    "#Define a function get_data to download a file from a given URL and save it locally\n",
    "def get_data(url:str):\n",
    "  filename = url.split('/')[-1]\n",
    "  with requests.get('https://datahub.io/core/glacier-mass-balance/r/glaciers.csv', stream=True) as r:\n",
    "    with open(\"/dbfs/{}\".format(filename), 'wb') as f:\n",
    "      for chunk in r.iter_content(chunk_size=8192):\n",
    "        f.write(chunk)\n",
    "  return filename\n"
   ]
  },
  {
   "cell_type": "code",
   "execution_count": 0,
   "metadata": {
    "application/vnd.databricks.v1+cell": {
     "cellMetadata": {
      "byteLimit": 2048000,
      "rowLimit": 10000
     },
     "inputWidgets": {},
     "nuid": "6c248823-3be8-4441-ade7-f7ec197fa176",
     "showTitle": false,
     "title": ""
    }
   },
   "outputs": [],
   "source": [
    "file_name = get_data('https://datahub.io/core/glacier-mass-balance/r/glaciers.csv')"
   ]
  },
  {
   "cell_type": "code",
   "execution_count": 0,
   "metadata": {
    "application/vnd.databricks.v1+cell": {
     "cellMetadata": {
      "byteLimit": 2048000,
      "rowLimit": 10000
     },
     "inputWidgets": {},
     "nuid": "f510d37c-92e7-443d-8d06-b3ca519c20fd",
     "showTitle": false,
     "title": ""
    }
   },
   "outputs": [
    {
     "output_type": "execute_result",
     "data": {
      "text/plain": [
       "'glaciers.csv'"
      ]
     },
     "execution_count": 12,
     "metadata": {},
     "output_type": "execute_result"
    }
   ],
   "source": [
    "file_name"
   ]
  },
  {
   "cell_type": "code",
   "execution_count": 0,
   "metadata": {
    "application/vnd.databricks.v1+cell": {
     "cellMetadata": {
      "byteLimit": 2048000,
      "rowLimit": 10000
     },
     "inputWidgets": {},
     "nuid": "b3c888c2-a202-447c-ba46-20c9f2d03745",
     "showTitle": false,
     "title": ""
    }
   },
   "outputs": [
    {
     "output_type": "execute_result",
     "data": {
      "text/plain": [
       "DataFrame[Year: string, Mean cumulative mass balance: string, Number of observations: string]"
      ]
     },
     "execution_count": 13,
     "metadata": {},
     "output_type": "execute_result"
    }
   ],
   "source": [
    "#Read the CSV file into a Spark DataFrame using the Spark SQL API.\n",
    "spark.read.format(\"csv\").option(\"header\",\"true\").load(\"file:/dbfs/glacier.csv\")"
   ]
  },
  {
   "cell_type": "code",
   "execution_count": 0,
   "metadata": {
    "application/vnd.databricks.v1+cell": {
     "cellMetadata": {
      "byteLimit": 2048000,
      "rowLimit": 10000
     },
     "inputWidgets": {},
     "nuid": "662ee772-3430-4954-831d-611ea91ed9ee",
     "showTitle": false,
     "title": ""
    }
   },
   "outputs": [],
   "source": [
    "#Determine the file format by extracting the extension from the filename.\n",
    "file_format = file_name.split(\".\")[-1]"
   ]
  },
  {
   "cell_type": "code",
   "execution_count": 0,
   "metadata": {
    "application/vnd.databricks.v1+cell": {
     "cellMetadata": {
      "byteLimit": 2048000,
      "rowLimit": 10000
     },
     "inputWidgets": {},
     "nuid": "98b26c2e-b022-4047-861a-136ff7b17a02",
     "showTitle": false,
     "title": ""
    }
   },
   "outputs": [],
   "source": [
    "#Define a function read_data to read data based on its file format into a Spark DataFrame.\n",
    "def read_data(file_name):\n",
    "  if file_format == 'csv':\n",
    "    df = spark.read.format(file_format).option(\"header\",\"true\").load(\"file:/dbfs/{}\".format(file_name))\n",
    "  elif file_format == 'json':\n",
    "    try:\n",
    "      df = spark.read.format(file_format).load(\"file:/dbfs/{}\".format(file_name))\n",
    "    except:\n",
    "      df = spark.read.format(file_format).option(\"multiline\",\"true\").load(\"file:/dbfs/{}\".format(file_name))\n",
    "  elif file_format == 'parquet':\n",
    "    df = spark,read.format(file_format).load(\"file:/dbfs/{}\".format(file_name))\n",
    "  elif file_format == 'txt':\n",
    "    df = spark.read.text(\"file:/dbfs/{}\".format(file_name))\n",
    "  return df"
   ]
  },
  {
   "cell_type": "code",
   "execution_count": 0,
   "metadata": {
    "application/vnd.databricks.v1+cell": {
     "cellMetadata": {
      "byteLimit": 2048000,
      "rowLimit": 10000
     },
     "inputWidgets": {},
     "nuid": "8b82f56a-831b-4220-a97f-5809ba4d7c31",
     "showTitle": false,
     "title": ""
    }
   },
   "outputs": [],
   "source": [
    "df = read_data(file_name)"
   ]
  },
  {
   "cell_type": "code",
   "execution_count": 0,
   "metadata": {
    "application/vnd.databricks.v1+cell": {
     "cellMetadata": {
      "byteLimit": 2048000,
      "rowLimit": 10000
     },
     "inputWidgets": {},
     "nuid": "0a84a3bc-37b7-4a06-9576-56623e6f0b4b",
     "showTitle": false,
     "title": ""
    }
   },
   "outputs": [
    {
     "output_type": "display_data",
     "data": {
      "text/html": [
       "<style scoped>\n",
       "  .table-result-container {\n",
       "    max-height: 300px;\n",
       "    overflow: auto;\n",
       "  }\n",
       "  table, th, td {\n",
       "    border: 1px solid black;\n",
       "    border-collapse: collapse;\n",
       "  }\n",
       "  th, td {\n",
       "    padding: 5px;\n",
       "  }\n",
       "  th {\n",
       "    text-align: left;\n",
       "  }\n",
       "</style><div class='table-result-container'><table class='table-result'><thead style='background-color: white'><tr><th>Year</th><th>Mean cumulative mass balance</th><th>Number of observations</th></tr></thead><tbody><tr><td>1945</td><td>0</td><td>null</td></tr><tr><td>1946</td><td>-1.13</td><td>1</td></tr><tr><td>1947</td><td>-3.19</td><td>1</td></tr><tr><td>1948</td><td>-3.19</td><td>1</td></tr><tr><td>1949</td><td>-3.82</td><td>3</td></tr><tr><td>1950</td><td>-4.887</td><td>3</td></tr><tr><td>1951</td><td>-5.217</td><td>3</td></tr><tr><td>1952</td><td>-5.707</td><td>3</td></tr><tr><td>1953</td><td>-6.341</td><td>7</td></tr><tr><td>1954</td><td>-6.825</td><td>6</td></tr><tr><td>1955</td><td>-6.575</td><td>7</td></tr><tr><td>1956</td><td>-6.814</td><td>7</td></tr><tr><td>1957</td><td>-6.989</td><td>9</td></tr><tr><td>1958</td><td>-7.693</td><td>9</td></tr><tr><td>1959</td><td>-8.325</td><td>11</td></tr><tr><td>1960</td><td>-8.688</td><td>14</td></tr><tr><td>1961</td><td>-8.935</td><td>15</td></tr><tr><td>1962</td><td>-9.109</td><td>20</td></tr><tr><td>1963</td><td>-9.567</td><td>22</td></tr><tr><td>1964</td><td>-9.699</td><td>22</td></tr><tr><td>1965</td><td>-9.298</td><td>24</td></tr><tr><td>1966</td><td>-9.436</td><td>27</td></tr><tr><td>1967</td><td>-9.303</td><td>29</td></tr><tr><td>1968</td><td>-9.219</td><td>31</td></tr><tr><td>1969</td><td>-9.732</td><td>31</td></tr><tr><td>1970</td><td>-10.128</td><td>32</td></tr><tr><td>1971</td><td>-10.288</td><td>32</td></tr><tr><td>1972</td><td>-10.441</td><td>32</td></tr><tr><td>1973</td><td>-10.538</td><td>32</td></tr><tr><td>1974</td><td>-10.613</td><td>32</td></tr><tr><td>1975</td><td>-10.534</td><td>33</td></tr><tr><td>1976</td><td>-10.633</td><td>35</td></tr><tr><td>1977</td><td>-10.682</td><td>37</td></tr><tr><td>1978</td><td>-10.754</td><td>37</td></tr><tr><td>1979</td><td>-11.127</td><td>37</td></tr><tr><td>1980</td><td>-11.318</td><td>36</td></tr><tr><td>1981</td><td>-11.394</td><td>35</td></tr><tr><td>1982</td><td>-11.849</td><td>36</td></tr><tr><td>1983</td><td>-11.846</td><td>37</td></tr><tr><td>1984</td><td>-11.902</td><td>37</td></tr><tr><td>1985</td><td>-12.238</td><td>37</td></tr><tr><td>1986</td><td>-12.782</td><td>37</td></tr><tr><td>1987</td><td>-12.795</td><td>37</td></tr><tr><td>1988</td><td>-13.26</td><td>37</td></tr><tr><td>1989</td><td>-13.343</td><td>37</td></tr><tr><td>1990</td><td>-13.687</td><td>37</td></tr><tr><td>1991</td><td>-14.255</td><td>37</td></tr><tr><td>1992</td><td>-14.501</td><td>36</td></tr><tr><td>1993</td><td>-14.695</td><td>37</td></tr><tr><td>1994</td><td>-15.276</td><td>37</td></tr><tr><td>1995</td><td>-15.486</td><td>37</td></tr><tr><td>1996</td><td>-15.89</td><td>37</td></tr><tr><td>1997</td><td>-16.487</td><td>37</td></tr><tr><td>1998</td><td>-17.31</td><td>37</td></tr><tr><td>1999</td><td>-17.697</td><td>37</td></tr><tr><td>2000</td><td>-17.727</td><td>37</td></tr><tr><td>2001</td><td>-18.032</td><td>37</td></tr><tr><td>2002</td><td>-18.726</td><td>37</td></tr><tr><td>2003</td><td>-19.984</td><td>37</td></tr><tr><td>2004</td><td>-20.703</td><td>37</td></tr><tr><td>2005</td><td>-21.405</td><td>37</td></tr><tr><td>2006</td><td>-22.595</td><td>37</td></tr><tr><td>2007</td><td>-23.255</td><td>37</td></tr><tr><td>2008</td><td>-23.776</td><td>37</td></tr><tr><td>2009</td><td>-24.459</td><td>37</td></tr><tr><td>2010</td><td>-25.158</td><td>37</td></tr><tr><td>2011</td><td>-26.294</td><td>37</td></tr><tr><td>2012</td><td>-26.93</td><td>36</td></tr><tr><td>2013</td><td>-27.817</td><td>31</td></tr><tr><td>2014</td><td>-28.652</td><td>24</td></tr></tbody></table></div>"
      ]
     },
     "metadata": {
      "application/vnd.databricks.v1+output": {
       "addedWidgets": {},
       "aggData": [],
       "aggError": "",
       "aggOverflow": false,
       "aggSchema": [],
       "aggSeriesLimitReached": false,
       "aggType": "",
       "arguments": {},
       "columnCustomDisplayInfos": {},
       "data": [
        [
         "1945",
         "0",
         null
        ],
        [
         "1946",
         "-1.13",
         "1"
        ],
        [
         "1947",
         "-3.19",
         "1"
        ],
        [
         "1948",
         "-3.19",
         "1"
        ],
        [
         "1949",
         "-3.82",
         "3"
        ],
        [
         "1950",
         "-4.887",
         "3"
        ],
        [
         "1951",
         "-5.217",
         "3"
        ],
        [
         "1952",
         "-5.707",
         "3"
        ],
        [
         "1953",
         "-6.341",
         "7"
        ],
        [
         "1954",
         "-6.825",
         "6"
        ],
        [
         "1955",
         "-6.575",
         "7"
        ],
        [
         "1956",
         "-6.814",
         "7"
        ],
        [
         "1957",
         "-6.989",
         "9"
        ],
        [
         "1958",
         "-7.693",
         "9"
        ],
        [
         "1959",
         "-8.325",
         "11"
        ],
        [
         "1960",
         "-8.688",
         "14"
        ],
        [
         "1961",
         "-8.935",
         "15"
        ],
        [
         "1962",
         "-9.109",
         "20"
        ],
        [
         "1963",
         "-9.567",
         "22"
        ],
        [
         "1964",
         "-9.699",
         "22"
        ],
        [
         "1965",
         "-9.298",
         "24"
        ],
        [
         "1966",
         "-9.436",
         "27"
        ],
        [
         "1967",
         "-9.303",
         "29"
        ],
        [
         "1968",
         "-9.219",
         "31"
        ],
        [
         "1969",
         "-9.732",
         "31"
        ],
        [
         "1970",
         "-10.128",
         "32"
        ],
        [
         "1971",
         "-10.288",
         "32"
        ],
        [
         "1972",
         "-10.441",
         "32"
        ],
        [
         "1973",
         "-10.538",
         "32"
        ],
        [
         "1974",
         "-10.613",
         "32"
        ],
        [
         "1975",
         "-10.534",
         "33"
        ],
        [
         "1976",
         "-10.633",
         "35"
        ],
        [
         "1977",
         "-10.682",
         "37"
        ],
        [
         "1978",
         "-10.754",
         "37"
        ],
        [
         "1979",
         "-11.127",
         "37"
        ],
        [
         "1980",
         "-11.318",
         "36"
        ],
        [
         "1981",
         "-11.394",
         "35"
        ],
        [
         "1982",
         "-11.849",
         "36"
        ],
        [
         "1983",
         "-11.846",
         "37"
        ],
        [
         "1984",
         "-11.902",
         "37"
        ],
        [
         "1985",
         "-12.238",
         "37"
        ],
        [
         "1986",
         "-12.782",
         "37"
        ],
        [
         "1987",
         "-12.795",
         "37"
        ],
        [
         "1988",
         "-13.26",
         "37"
        ],
        [
         "1989",
         "-13.343",
         "37"
        ],
        [
         "1990",
         "-13.687",
         "37"
        ],
        [
         "1991",
         "-14.255",
         "37"
        ],
        [
         "1992",
         "-14.501",
         "36"
        ],
        [
         "1993",
         "-14.695",
         "37"
        ],
        [
         "1994",
         "-15.276",
         "37"
        ],
        [
         "1995",
         "-15.486",
         "37"
        ],
        [
         "1996",
         "-15.89",
         "37"
        ],
        [
         "1997",
         "-16.487",
         "37"
        ],
        [
         "1998",
         "-17.31",
         "37"
        ],
        [
         "1999",
         "-17.697",
         "37"
        ],
        [
         "2000",
         "-17.727",
         "37"
        ],
        [
         "2001",
         "-18.032",
         "37"
        ],
        [
         "2002",
         "-18.726",
         "37"
        ],
        [
         "2003",
         "-19.984",
         "37"
        ],
        [
         "2004",
         "-20.703",
         "37"
        ],
        [
         "2005",
         "-21.405",
         "37"
        ],
        [
         "2006",
         "-22.595",
         "37"
        ],
        [
         "2007",
         "-23.255",
         "37"
        ],
        [
         "2008",
         "-23.776",
         "37"
        ],
        [
         "2009",
         "-24.459",
         "37"
        ],
        [
         "2010",
         "-25.158",
         "37"
        ],
        [
         "2011",
         "-26.294",
         "37"
        ],
        [
         "2012",
         "-26.93",
         "36"
        ],
        [
         "2013",
         "-27.817",
         "31"
        ],
        [
         "2014",
         "-28.652",
         "24"
        ]
       ],
       "datasetInfos": [],
       "dbfsResultPath": null,
       "isJsonSchema": true,
       "metadata": {},
       "overflow": false,
       "plotOptions": {
        "customPlotOptions": {},
        "displayType": "table",
        "pivotAggregation": null,
        "pivotColumns": null,
        "xColumns": null,
        "yColumns": null
       },
       "removedWidgets": [],
       "schema": [
        {
         "metadata": "{}",
         "name": "Year",
         "type": "\"string\""
        },
        {
         "metadata": "{}",
         "name": "Mean cumulative mass balance",
         "type": "\"string\""
        },
        {
         "metadata": "{}",
         "name": "Number of observations",
         "type": "\"string\""
        }
       ],
       "type": "table"
      }
     },
     "output_type": "display_data"
    }
   ],
   "source": [
    "#Display the contents of the DataFrame using Databricks display\n",
    "display(df)"
   ]
  },
  {
   "cell_type": "code",
   "execution_count": 0,
   "metadata": {
    "application/vnd.databricks.v1+cell": {
     "cellMetadata": {
      "byteLimit": 2048000,
      "rowLimit": 10000
     },
     "inputWidgets": {},
     "nuid": "3c2ac97c-97f2-4a2e-8d27-ffd3829afd89",
     "showTitle": false,
     "title": ""
    }
   },
   "outputs": [],
   "source": [
    "df.createOrReplaceTempView(\"df\")"
   ]
  },
  {
   "cell_type": "code",
   "execution_count": 0,
   "metadata": {
    "application/vnd.databricks.v1+cell": {
     "cellMetadata": {
      "byteLimit": 2048000,
      "implicitDf": true,
      "rowLimit": 10000
     },
     "inputWidgets": {},
     "nuid": "d1233f82-5b03-49d9-a553-6b9d4a974044",
     "showTitle": false,
     "title": ""
    }
   },
   "outputs": [
    {
     "output_type": "display_data",
     "data": {
      "text/html": [
       "<style scoped>\n",
       "  .table-result-container {\n",
       "    max-height: 300px;\n",
       "    overflow: auto;\n",
       "  }\n",
       "  table, th, td {\n",
       "    border: 1px solid black;\n",
       "    border-collapse: collapse;\n",
       "  }\n",
       "  th, td {\n",
       "    padding: 5px;\n",
       "  }\n",
       "  th {\n",
       "    text-align: left;\n",
       "  }\n",
       "</style><div class='table-result-container'><table class='table-result'><thead style='background-color: white'><tr><th>Year</th><th>Mean cumulative mass balance</th><th>Number of observations</th></tr></thead><tbody><tr><td>1945</td><td>0</td><td>null</td></tr><tr><td>1946</td><td>-1.13</td><td>1</td></tr><tr><td>1947</td><td>-3.19</td><td>1</td></tr><tr><td>1948</td><td>-3.19</td><td>1</td></tr><tr><td>1949</td><td>-3.82</td><td>3</td></tr><tr><td>1950</td><td>-4.887</td><td>3</td></tr><tr><td>1951</td><td>-5.217</td><td>3</td></tr><tr><td>1952</td><td>-5.707</td><td>3</td></tr><tr><td>1953</td><td>-6.341</td><td>7</td></tr><tr><td>1954</td><td>-6.825</td><td>6</td></tr><tr><td>1955</td><td>-6.575</td><td>7</td></tr><tr><td>1956</td><td>-6.814</td><td>7</td></tr><tr><td>1957</td><td>-6.989</td><td>9</td></tr><tr><td>1958</td><td>-7.693</td><td>9</td></tr><tr><td>1959</td><td>-8.325</td><td>11</td></tr><tr><td>1960</td><td>-8.688</td><td>14</td></tr><tr><td>1961</td><td>-8.935</td><td>15</td></tr><tr><td>1962</td><td>-9.109</td><td>20</td></tr><tr><td>1963</td><td>-9.567</td><td>22</td></tr><tr><td>1964</td><td>-9.699</td><td>22</td></tr><tr><td>1965</td><td>-9.298</td><td>24</td></tr><tr><td>1966</td><td>-9.436</td><td>27</td></tr><tr><td>1967</td><td>-9.303</td><td>29</td></tr><tr><td>1968</td><td>-9.219</td><td>31</td></tr><tr><td>1969</td><td>-9.732</td><td>31</td></tr><tr><td>1970</td><td>-10.128</td><td>32</td></tr><tr><td>1971</td><td>-10.288</td><td>32</td></tr><tr><td>1972</td><td>-10.441</td><td>32</td></tr><tr><td>1973</td><td>-10.538</td><td>32</td></tr><tr><td>1974</td><td>-10.613</td><td>32</td></tr><tr><td>1975</td><td>-10.534</td><td>33</td></tr><tr><td>1976</td><td>-10.633</td><td>35</td></tr><tr><td>1977</td><td>-10.682</td><td>37</td></tr><tr><td>1978</td><td>-10.754</td><td>37</td></tr><tr><td>1979</td><td>-11.127</td><td>37</td></tr><tr><td>1980</td><td>-11.318</td><td>36</td></tr><tr><td>1981</td><td>-11.394</td><td>35</td></tr><tr><td>1982</td><td>-11.849</td><td>36</td></tr><tr><td>1983</td><td>-11.846</td><td>37</td></tr><tr><td>1984</td><td>-11.902</td><td>37</td></tr><tr><td>1985</td><td>-12.238</td><td>37</td></tr><tr><td>1986</td><td>-12.782</td><td>37</td></tr><tr><td>1987</td><td>-12.795</td><td>37</td></tr><tr><td>1988</td><td>-13.26</td><td>37</td></tr><tr><td>1989</td><td>-13.343</td><td>37</td></tr><tr><td>1990</td><td>-13.687</td><td>37</td></tr><tr><td>1991</td><td>-14.255</td><td>37</td></tr><tr><td>1992</td><td>-14.501</td><td>36</td></tr><tr><td>1993</td><td>-14.695</td><td>37</td></tr><tr><td>1994</td><td>-15.276</td><td>37</td></tr><tr><td>1995</td><td>-15.486</td><td>37</td></tr><tr><td>1996</td><td>-15.89</td><td>37</td></tr><tr><td>1997</td><td>-16.487</td><td>37</td></tr><tr><td>1998</td><td>-17.31</td><td>37</td></tr><tr><td>1999</td><td>-17.697</td><td>37</td></tr><tr><td>2000</td><td>-17.727</td><td>37</td></tr><tr><td>2001</td><td>-18.032</td><td>37</td></tr><tr><td>2002</td><td>-18.726</td><td>37</td></tr><tr><td>2003</td><td>-19.984</td><td>37</td></tr><tr><td>2004</td><td>-20.703</td><td>37</td></tr><tr><td>2005</td><td>-21.405</td><td>37</td></tr><tr><td>2006</td><td>-22.595</td><td>37</td></tr><tr><td>2007</td><td>-23.255</td><td>37</td></tr><tr><td>2008</td><td>-23.776</td><td>37</td></tr><tr><td>2009</td><td>-24.459</td><td>37</td></tr><tr><td>2010</td><td>-25.158</td><td>37</td></tr><tr><td>2011</td><td>-26.294</td><td>37</td></tr><tr><td>2012</td><td>-26.93</td><td>36</td></tr><tr><td>2013</td><td>-27.817</td><td>31</td></tr><tr><td>2014</td><td>-28.652</td><td>24</td></tr></tbody></table></div>"
      ]
     },
     "metadata": {
      "application/vnd.databricks.v1+output": {
       "addedWidgets": {},
       "aggData": [],
       "aggError": "",
       "aggOverflow": false,
       "aggSchema": [],
       "aggSeriesLimitReached": false,
       "aggType": "",
       "arguments": {},
       "columnCustomDisplayInfos": {},
       "data": [
        [
         "1945",
         "0",
         null
        ],
        [
         "1946",
         "-1.13",
         "1"
        ],
        [
         "1947",
         "-3.19",
         "1"
        ],
        [
         "1948",
         "-3.19",
         "1"
        ],
        [
         "1949",
         "-3.82",
         "3"
        ],
        [
         "1950",
         "-4.887",
         "3"
        ],
        [
         "1951",
         "-5.217",
         "3"
        ],
        [
         "1952",
         "-5.707",
         "3"
        ],
        [
         "1953",
         "-6.341",
         "7"
        ],
        [
         "1954",
         "-6.825",
         "6"
        ],
        [
         "1955",
         "-6.575",
         "7"
        ],
        [
         "1956",
         "-6.814",
         "7"
        ],
        [
         "1957",
         "-6.989",
         "9"
        ],
        [
         "1958",
         "-7.693",
         "9"
        ],
        [
         "1959",
         "-8.325",
         "11"
        ],
        [
         "1960",
         "-8.688",
         "14"
        ],
        [
         "1961",
         "-8.935",
         "15"
        ],
        [
         "1962",
         "-9.109",
         "20"
        ],
        [
         "1963",
         "-9.567",
         "22"
        ],
        [
         "1964",
         "-9.699",
         "22"
        ],
        [
         "1965",
         "-9.298",
         "24"
        ],
        [
         "1966",
         "-9.436",
         "27"
        ],
        [
         "1967",
         "-9.303",
         "29"
        ],
        [
         "1968",
         "-9.219",
         "31"
        ],
        [
         "1969",
         "-9.732",
         "31"
        ],
        [
         "1970",
         "-10.128",
         "32"
        ],
        [
         "1971",
         "-10.288",
         "32"
        ],
        [
         "1972",
         "-10.441",
         "32"
        ],
        [
         "1973",
         "-10.538",
         "32"
        ],
        [
         "1974",
         "-10.613",
         "32"
        ],
        [
         "1975",
         "-10.534",
         "33"
        ],
        [
         "1976",
         "-10.633",
         "35"
        ],
        [
         "1977",
         "-10.682",
         "37"
        ],
        [
         "1978",
         "-10.754",
         "37"
        ],
        [
         "1979",
         "-11.127",
         "37"
        ],
        [
         "1980",
         "-11.318",
         "36"
        ],
        [
         "1981",
         "-11.394",
         "35"
        ],
        [
         "1982",
         "-11.849",
         "36"
        ],
        [
         "1983",
         "-11.846",
         "37"
        ],
        [
         "1984",
         "-11.902",
         "37"
        ],
        [
         "1985",
         "-12.238",
         "37"
        ],
        [
         "1986",
         "-12.782",
         "37"
        ],
        [
         "1987",
         "-12.795",
         "37"
        ],
        [
         "1988",
         "-13.26",
         "37"
        ],
        [
         "1989",
         "-13.343",
         "37"
        ],
        [
         "1990",
         "-13.687",
         "37"
        ],
        [
         "1991",
         "-14.255",
         "37"
        ],
        [
         "1992",
         "-14.501",
         "36"
        ],
        [
         "1993",
         "-14.695",
         "37"
        ],
        [
         "1994",
         "-15.276",
         "37"
        ],
        [
         "1995",
         "-15.486",
         "37"
        ],
        [
         "1996",
         "-15.89",
         "37"
        ],
        [
         "1997",
         "-16.487",
         "37"
        ],
        [
         "1998",
         "-17.31",
         "37"
        ],
        [
         "1999",
         "-17.697",
         "37"
        ],
        [
         "2000",
         "-17.727",
         "37"
        ],
        [
         "2001",
         "-18.032",
         "37"
        ],
        [
         "2002",
         "-18.726",
         "37"
        ],
        [
         "2003",
         "-19.984",
         "37"
        ],
        [
         "2004",
         "-20.703",
         "37"
        ],
        [
         "2005",
         "-21.405",
         "37"
        ],
        [
         "2006",
         "-22.595",
         "37"
        ],
        [
         "2007",
         "-23.255",
         "37"
        ],
        [
         "2008",
         "-23.776",
         "37"
        ],
        [
         "2009",
         "-24.459",
         "37"
        ],
        [
         "2010",
         "-25.158",
         "37"
        ],
        [
         "2011",
         "-26.294",
         "37"
        ],
        [
         "2012",
         "-26.93",
         "36"
        ],
        [
         "2013",
         "-27.817",
         "31"
        ],
        [
         "2014",
         "-28.652",
         "24"
        ]
       ],
       "datasetInfos": [],
       "dbfsResultPath": null,
       "isJsonSchema": true,
       "metadata": {
        "dataframeName": "_sqldf",
        "executionCount": 19
       },
       "overflow": false,
       "plotOptions": {
        "customPlotOptions": {},
        "displayType": "table",
        "pivotAggregation": null,
        "pivotColumns": null,
        "xColumns": null,
        "yColumns": null
       },
       "removedWidgets": [],
       "schema": [
        {
         "metadata": "{}",
         "name": "Year",
         "type": "\"string\""
        },
        {
         "metadata": "{}",
         "name": "Mean cumulative mass balance",
         "type": "\"string\""
        },
        {
         "metadata": "{}",
         "name": "Number of observations",
         "type": "\"string\""
        }
       ],
       "type": "table"
      }
     },
     "output_type": "display_data"
    }
   ],
   "source": [
    "#Run a SQL query on the DataFrame using Spark SQL.\n",
    "%sql\n",
    "select * from df"
   ]
  },
  {
   "cell_type": "code",
   "execution_count": 0,
   "metadata": {
    "application/vnd.databricks.v1+cell": {
     "cellMetadata": {
      "byteLimit": 2048000,
      "implicitDf": true,
      "rowLimit": 10000
     },
     "inputWidgets": {},
     "nuid": "e4887def-620e-4c2f-a4db-5d6facb4d168",
     "showTitle": false,
     "title": ""
    }
   },
   "outputs": [
    {
     "output_type": "display_data",
     "data": {
      "text/html": [
       "<style scoped>\n",
       "  .table-result-container {\n",
       "    max-height: 300px;\n",
       "    overflow: auto;\n",
       "  }\n",
       "  table, th, td {\n",
       "    border: 1px solid black;\n",
       "    border-collapse: collapse;\n",
       "  }\n",
       "  th, td {\n",
       "    padding: 5px;\n",
       "  }\n",
       "  th {\n",
       "    text-align: left;\n",
       "  }\n",
       "</style><div class='table-result-container'><table class='table-result'><thead style='background-color: white'><tr></tr></thead><tbody></tbody></table></div>"
      ]
     },
     "metadata": {
      "application/vnd.databricks.v1+output": {
       "addedWidgets": {},
       "aggData": [],
       "aggError": "",
       "aggOverflow": false,
       "aggSchema": [],
       "aggSeriesLimitReached": false,
       "aggType": "",
       "arguments": {},
       "columnCustomDisplayInfos": {},
       "data": [],
       "datasetInfos": [],
       "dbfsResultPath": null,
       "isJsonSchema": true,
       "metadata": {
        "dataframeName": null
       },
       "overflow": false,
       "plotOptions": {
        "customPlotOptions": {},
        "displayType": "table",
        "pivotAggregation": null,
        "pivotColumns": null,
        "xColumns": null,
        "yColumns": null
       },
       "removedWidgets": [],
       "schema": [],
       "type": "table"
      }
     },
     "output_type": "display_data"
    }
   ],
   "source": [
    "#Create temporary views for data from the 1990s and the modern era using SQL queries.\n",
    "%sql\n",
    "create or replace temp view nintys as select * from df where Year like '19%' order by Year asc;\n",
    "create or replace temp view modern as select * from df where Year like '20%' order by Year asc;"
   ]
  },
  {
   "cell_type": "code",
   "execution_count": 0,
   "metadata": {
    "application/vnd.databricks.v1+cell": {
     "cellMetadata": {
      "byteLimit": 2048000,
      "rowLimit": 10000
     },
     "inputWidgets": {},
     "nuid": "8ba504aa-c54b-4c3e-a340-3da4d4b77afe",
     "showTitle": false,
     "title": ""
    }
   },
   "outputs": [],
   "source": [
    "#Execute SQL queries on the temporary views to create two new DataFrames.\n",
    "nintys_df = spark.sql(\"select * from nintys\")\n",
    "modern_df = spark.sql(\"select * from modern\")"
   ]
  },
  {
   "cell_type": "code",
   "execution_count": 0,
   "metadata": {
    "application/vnd.databricks.v1+cell": {
     "cellMetadata": {
      "byteLimit": 2048000,
      "rowLimit": 10000
     },
     "inputWidgets": {},
     "nuid": "83d60cc3-9ef7-4dd7-85ef-1a3731ee4c4b",
     "showTitle": false,
     "title": ""
    }
   },
   "outputs": [],
   "source": [
    "#Define a function transform_data to transform the original DataFrame into two new DataFrames based on the era\n",
    "def transform_data(df: DataFrame):\n",
    "  spark.sql(\"create or replace temp view nintys as select * from df where Year like '19%' order by Year asc;\")\n",
    "  nintys_df = spark.sql(\"select * from nintys\")\n",
    "  spark.sql(\"create or replace temp view modern as select * from df where Year like '20%' order by Year asc;\")\n",
    "  modern_df = spark.sql(\"select * from modern\")\n",
    "  return nintys_df, modern_df"
   ]
  },
  {
   "cell_type": "code",
   "execution_count": 0,
   "metadata": {
    "application/vnd.databricks.v1+cell": {
     "cellMetadata": {
      "byteLimit": 2048000,
      "rowLimit": 10000
     },
     "inputWidgets": {},
     "nuid": "10bb2eeb-08ce-4ec2-9232-0f05bff06812",
     "showTitle": false,
     "title": ""
    }
   },
   "outputs": [],
   "source": [
    "#Apply the transform_data function to create two DataFrames, x for the 1990s and y for the modern era\n",
    "x, y = transform_data(df)"
   ]
  },
  {
   "cell_type": "code",
   "execution_count": 0,
   "metadata": {
    "application/vnd.databricks.v1+cell": {
     "cellMetadata": {
      "byteLimit": 2048000,
      "rowLimit": 10000
     },
     "inputWidgets": {},
     "nuid": "51b22c23-0af8-4201-8fed-8e7dc1ff6b16",
     "showTitle": false,
     "title": ""
    }
   },
   "outputs": [
    {
     "output_type": "display_data",
     "data": {
      "text/html": [
       "<style scoped>\n",
       "  .table-result-container {\n",
       "    max-height: 300px;\n",
       "    overflow: auto;\n",
       "  }\n",
       "  table, th, td {\n",
       "    border: 1px solid black;\n",
       "    border-collapse: collapse;\n",
       "  }\n",
       "  th, td {\n",
       "    padding: 5px;\n",
       "  }\n",
       "  th {\n",
       "    text-align: left;\n",
       "  }\n",
       "</style><div class='table-result-container'><table class='table-result'><thead style='background-color: white'><tr><th>Year</th><th>Mean cumulative mass balance</th><th>Number of observations</th></tr></thead><tbody><tr><td>2000</td><td>-17.727</td><td>37</td></tr><tr><td>2001</td><td>-18.032</td><td>37</td></tr><tr><td>2002</td><td>-18.726</td><td>37</td></tr><tr><td>2003</td><td>-19.984</td><td>37</td></tr><tr><td>2004</td><td>-20.703</td><td>37</td></tr><tr><td>2005</td><td>-21.405</td><td>37</td></tr><tr><td>2006</td><td>-22.595</td><td>37</td></tr><tr><td>2007</td><td>-23.255</td><td>37</td></tr><tr><td>2008</td><td>-23.776</td><td>37</td></tr><tr><td>2009</td><td>-24.459</td><td>37</td></tr><tr><td>2010</td><td>-25.158</td><td>37</td></tr><tr><td>2011</td><td>-26.294</td><td>37</td></tr><tr><td>2012</td><td>-26.93</td><td>36</td></tr><tr><td>2013</td><td>-27.817</td><td>31</td></tr><tr><td>2014</td><td>-28.652</td><td>24</td></tr></tbody></table></div>"
      ]
     },
     "metadata": {
      "application/vnd.databricks.v1+output": {
       "addedWidgets": {},
       "aggData": [],
       "aggError": "",
       "aggOverflow": false,
       "aggSchema": [],
       "aggSeriesLimitReached": false,
       "aggType": "",
       "arguments": {},
       "columnCustomDisplayInfos": {},
       "data": [
        [
         "2000",
         "-17.727",
         "37"
        ],
        [
         "2001",
         "-18.032",
         "37"
        ],
        [
         "2002",
         "-18.726",
         "37"
        ],
        [
         "2003",
         "-19.984",
         "37"
        ],
        [
         "2004",
         "-20.703",
         "37"
        ],
        [
         "2005",
         "-21.405",
         "37"
        ],
        [
         "2006",
         "-22.595",
         "37"
        ],
        [
         "2007",
         "-23.255",
         "37"
        ],
        [
         "2008",
         "-23.776",
         "37"
        ],
        [
         "2009",
         "-24.459",
         "37"
        ],
        [
         "2010",
         "-25.158",
         "37"
        ],
        [
         "2011",
         "-26.294",
         "37"
        ],
        [
         "2012",
         "-26.93",
         "36"
        ],
        [
         "2013",
         "-27.817",
         "31"
        ],
        [
         "2014",
         "-28.652",
         "24"
        ]
       ],
       "datasetInfos": [],
       "dbfsResultPath": null,
       "isJsonSchema": true,
       "metadata": {},
       "overflow": false,
       "plotOptions": {
        "customPlotOptions": {},
        "displayType": "table",
        "pivotAggregation": null,
        "pivotColumns": null,
        "xColumns": null,
        "yColumns": null
       },
       "removedWidgets": [],
       "schema": [
        {
         "metadata": "{}",
         "name": "Year",
         "type": "\"string\""
        },
        {
         "metadata": "{}",
         "name": "Mean cumulative mass balance",
         "type": "\"string\""
        },
        {
         "metadata": "{}",
         "name": "Number of observations",
         "type": "\"string\""
        }
       ],
       "type": "table"
      }
     },
     "output_type": "display_data"
    }
   ],
   "source": [
    "display(y)"
   ]
  },
  {
   "cell_type": "code",
   "execution_count": 0,
   "metadata": {
    "application/vnd.databricks.v1+cell": {
     "cellMetadata": {
      "byteLimit": 2048000,
      "rowLimit": 10000
     },
     "inputWidgets": {},
     "nuid": "e6262d0f-cd16-45d4-ba0e-d2a855467117",
     "showTitle": false,
     "title": ""
    }
   },
   "outputs": [
    {
     "output_type": "display_data",
     "data": {
      "text/html": [
       "<style scoped>\n",
       "  .table-result-container {\n",
       "    max-height: 300px;\n",
       "    overflow: auto;\n",
       "  }\n",
       "  table, th, td {\n",
       "    border: 1px solid black;\n",
       "    border-collapse: collapse;\n",
       "  }\n",
       "  th, td {\n",
       "    padding: 5px;\n",
       "  }\n",
       "  th {\n",
       "    text-align: left;\n",
       "  }\n",
       "</style><div class='table-result-container'><table class='table-result'><thead style='background-color: white'><tr><th>Year</th><th>Mean cumulative mass balance</th><th>Number of observations</th></tr></thead><tbody><tr><td>1945</td><td>0</td><td>null</td></tr><tr><td>1946</td><td>-1.13</td><td>1</td></tr><tr><td>1947</td><td>-3.19</td><td>1</td></tr><tr><td>1948</td><td>-3.19</td><td>1</td></tr><tr><td>1949</td><td>-3.82</td><td>3</td></tr><tr><td>1950</td><td>-4.887</td><td>3</td></tr><tr><td>1951</td><td>-5.217</td><td>3</td></tr><tr><td>1952</td><td>-5.707</td><td>3</td></tr><tr><td>1953</td><td>-6.341</td><td>7</td></tr><tr><td>1954</td><td>-6.825</td><td>6</td></tr><tr><td>1955</td><td>-6.575</td><td>7</td></tr><tr><td>1956</td><td>-6.814</td><td>7</td></tr><tr><td>1957</td><td>-6.989</td><td>9</td></tr><tr><td>1958</td><td>-7.693</td><td>9</td></tr><tr><td>1959</td><td>-8.325</td><td>11</td></tr><tr><td>1960</td><td>-8.688</td><td>14</td></tr><tr><td>1961</td><td>-8.935</td><td>15</td></tr><tr><td>1962</td><td>-9.109</td><td>20</td></tr><tr><td>1963</td><td>-9.567</td><td>22</td></tr><tr><td>1964</td><td>-9.699</td><td>22</td></tr><tr><td>1965</td><td>-9.298</td><td>24</td></tr><tr><td>1966</td><td>-9.436</td><td>27</td></tr><tr><td>1967</td><td>-9.303</td><td>29</td></tr><tr><td>1968</td><td>-9.219</td><td>31</td></tr><tr><td>1969</td><td>-9.732</td><td>31</td></tr><tr><td>1970</td><td>-10.128</td><td>32</td></tr><tr><td>1971</td><td>-10.288</td><td>32</td></tr><tr><td>1972</td><td>-10.441</td><td>32</td></tr><tr><td>1973</td><td>-10.538</td><td>32</td></tr><tr><td>1974</td><td>-10.613</td><td>32</td></tr><tr><td>1975</td><td>-10.534</td><td>33</td></tr><tr><td>1976</td><td>-10.633</td><td>35</td></tr><tr><td>1977</td><td>-10.682</td><td>37</td></tr><tr><td>1978</td><td>-10.754</td><td>37</td></tr><tr><td>1979</td><td>-11.127</td><td>37</td></tr><tr><td>1980</td><td>-11.318</td><td>36</td></tr><tr><td>1981</td><td>-11.394</td><td>35</td></tr><tr><td>1982</td><td>-11.849</td><td>36</td></tr><tr><td>1983</td><td>-11.846</td><td>37</td></tr><tr><td>1984</td><td>-11.902</td><td>37</td></tr><tr><td>1985</td><td>-12.238</td><td>37</td></tr><tr><td>1986</td><td>-12.782</td><td>37</td></tr><tr><td>1987</td><td>-12.795</td><td>37</td></tr><tr><td>1988</td><td>-13.26</td><td>37</td></tr><tr><td>1989</td><td>-13.343</td><td>37</td></tr><tr><td>1990</td><td>-13.687</td><td>37</td></tr><tr><td>1991</td><td>-14.255</td><td>37</td></tr><tr><td>1992</td><td>-14.501</td><td>36</td></tr><tr><td>1993</td><td>-14.695</td><td>37</td></tr><tr><td>1994</td><td>-15.276</td><td>37</td></tr><tr><td>1995</td><td>-15.486</td><td>37</td></tr><tr><td>1996</td><td>-15.89</td><td>37</td></tr><tr><td>1997</td><td>-16.487</td><td>37</td></tr><tr><td>1998</td><td>-17.31</td><td>37</td></tr><tr><td>1999</td><td>-17.697</td><td>37</td></tr></tbody></table></div>"
      ]
     },
     "metadata": {
      "application/vnd.databricks.v1+output": {
       "addedWidgets": {},
       "aggData": [],
       "aggError": "",
       "aggOverflow": false,
       "aggSchema": [],
       "aggSeriesLimitReached": false,
       "aggType": "",
       "arguments": {},
       "columnCustomDisplayInfos": {},
       "data": [
        [
         "1945",
         "0",
         null
        ],
        [
         "1946",
         "-1.13",
         "1"
        ],
        [
         "1947",
         "-3.19",
         "1"
        ],
        [
         "1948",
         "-3.19",
         "1"
        ],
        [
         "1949",
         "-3.82",
         "3"
        ],
        [
         "1950",
         "-4.887",
         "3"
        ],
        [
         "1951",
         "-5.217",
         "3"
        ],
        [
         "1952",
         "-5.707",
         "3"
        ],
        [
         "1953",
         "-6.341",
         "7"
        ],
        [
         "1954",
         "-6.825",
         "6"
        ],
        [
         "1955",
         "-6.575",
         "7"
        ],
        [
         "1956",
         "-6.814",
         "7"
        ],
        [
         "1957",
         "-6.989",
         "9"
        ],
        [
         "1958",
         "-7.693",
         "9"
        ],
        [
         "1959",
         "-8.325",
         "11"
        ],
        [
         "1960",
         "-8.688",
         "14"
        ],
        [
         "1961",
         "-8.935",
         "15"
        ],
        [
         "1962",
         "-9.109",
         "20"
        ],
        [
         "1963",
         "-9.567",
         "22"
        ],
        [
         "1964",
         "-9.699",
         "22"
        ],
        [
         "1965",
         "-9.298",
         "24"
        ],
        [
         "1966",
         "-9.436",
         "27"
        ],
        [
         "1967",
         "-9.303",
         "29"
        ],
        [
         "1968",
         "-9.219",
         "31"
        ],
        [
         "1969",
         "-9.732",
         "31"
        ],
        [
         "1970",
         "-10.128",
         "32"
        ],
        [
         "1971",
         "-10.288",
         "32"
        ],
        [
         "1972",
         "-10.441",
         "32"
        ],
        [
         "1973",
         "-10.538",
         "32"
        ],
        [
         "1974",
         "-10.613",
         "32"
        ],
        [
         "1975",
         "-10.534",
         "33"
        ],
        [
         "1976",
         "-10.633",
         "35"
        ],
        [
         "1977",
         "-10.682",
         "37"
        ],
        [
         "1978",
         "-10.754",
         "37"
        ],
        [
         "1979",
         "-11.127",
         "37"
        ],
        [
         "1980",
         "-11.318",
         "36"
        ],
        [
         "1981",
         "-11.394",
         "35"
        ],
        [
         "1982",
         "-11.849",
         "36"
        ],
        [
         "1983",
         "-11.846",
         "37"
        ],
        [
         "1984",
         "-11.902",
         "37"
        ],
        [
         "1985",
         "-12.238",
         "37"
        ],
        [
         "1986",
         "-12.782",
         "37"
        ],
        [
         "1987",
         "-12.795",
         "37"
        ],
        [
         "1988",
         "-13.26",
         "37"
        ],
        [
         "1989",
         "-13.343",
         "37"
        ],
        [
         "1990",
         "-13.687",
         "37"
        ],
        [
         "1991",
         "-14.255",
         "37"
        ],
        [
         "1992",
         "-14.501",
         "36"
        ],
        [
         "1993",
         "-14.695",
         "37"
        ],
        [
         "1994",
         "-15.276",
         "37"
        ],
        [
         "1995",
         "-15.486",
         "37"
        ],
        [
         "1996",
         "-15.89",
         "37"
        ],
        [
         "1997",
         "-16.487",
         "37"
        ],
        [
         "1998",
         "-17.31",
         "37"
        ],
        [
         "1999",
         "-17.697",
         "37"
        ]
       ],
       "datasetInfos": [],
       "dbfsResultPath": null,
       "isJsonSchema": true,
       "metadata": {},
       "overflow": false,
       "plotOptions": {
        "customPlotOptions": {},
        "displayType": "table",
        "pivotAggregation": null,
        "pivotColumns": null,
        "xColumns": null,
        "yColumns": null
       },
       "removedWidgets": [],
       "schema": [
        {
         "metadata": "{}",
         "name": "Year",
         "type": "\"string\""
        },
        {
         "metadata": "{}",
         "name": "Mean cumulative mass balance",
         "type": "\"string\""
        },
        {
         "metadata": "{}",
         "name": "Number of observations",
         "type": "\"string\""
        }
       ],
       "type": "table"
      }
     },
     "output_type": "display_data"
    }
   ],
   "source": [
    "display(x)"
   ]
  },
  {
   "cell_type": "code",
   "execution_count": 0,
   "metadata": {
    "application/vnd.databricks.v1+cell": {
     "cellMetadata": {
      "byteLimit": 2048000,
      "rowLimit": 10000
     },
     "inputWidgets": {},
     "nuid": "1fa7b5a1-2953-414d-86d8-39368019ef04",
     "showTitle": false,
     "title": ""
    }
   },
   "outputs": [
    {
     "output_type": "display_data",
     "data": {
      "text/html": [
       "<style scoped>\n",
       "  .table-result-container {\n",
       "    max-height: 300px;\n",
       "    overflow: auto;\n",
       "  }\n",
       "  table, th, td {\n",
       "    border: 1px solid black;\n",
       "    border-collapse: collapse;\n",
       "  }\n",
       "  th, td {\n",
       "    padding: 5px;\n",
       "  }\n",
       "  th {\n",
       "    text-align: left;\n",
       "  }\n",
       "</style><div class='table-result-container'><table class='table-result'><thead style='background-color: white'><tr><th>Year</th><th>Mean cumulative mass balance</th><th>Number of observations</th></tr></thead><tbody><tr><td>1945</td><td>0</td><td>null</td></tr><tr><td>1946</td><td>-1.13</td><td>1</td></tr><tr><td>1947</td><td>-3.19</td><td>1</td></tr><tr><td>1948</td><td>-3.19</td><td>1</td></tr><tr><td>1949</td><td>-3.82</td><td>3</td></tr><tr><td>1950</td><td>-4.887</td><td>3</td></tr><tr><td>1951</td><td>-5.217</td><td>3</td></tr><tr><td>1952</td><td>-5.707</td><td>3</td></tr><tr><td>1953</td><td>-6.341</td><td>7</td></tr><tr><td>1954</td><td>-6.825</td><td>6</td></tr><tr><td>1955</td><td>-6.575</td><td>7</td></tr><tr><td>1956</td><td>-6.814</td><td>7</td></tr><tr><td>1957</td><td>-6.989</td><td>9</td></tr><tr><td>1958</td><td>-7.693</td><td>9</td></tr><tr><td>1959</td><td>-8.325</td><td>11</td></tr><tr><td>1960</td><td>-8.688</td><td>14</td></tr><tr><td>1961</td><td>-8.935</td><td>15</td></tr><tr><td>1962</td><td>-9.109</td><td>20</td></tr><tr><td>1963</td><td>-9.567</td><td>22</td></tr><tr><td>1964</td><td>-9.699</td><td>22</td></tr><tr><td>1965</td><td>-9.298</td><td>24</td></tr><tr><td>1966</td><td>-9.436</td><td>27</td></tr><tr><td>1967</td><td>-9.303</td><td>29</td></tr><tr><td>1968</td><td>-9.219</td><td>31</td></tr><tr><td>1969</td><td>-9.732</td><td>31</td></tr><tr><td>1970</td><td>-10.128</td><td>32</td></tr><tr><td>1971</td><td>-10.288</td><td>32</td></tr><tr><td>1972</td><td>-10.441</td><td>32</td></tr><tr><td>1973</td><td>-10.538</td><td>32</td></tr><tr><td>1974</td><td>-10.613</td><td>32</td></tr><tr><td>1975</td><td>-10.534</td><td>33</td></tr><tr><td>1976</td><td>-10.633</td><td>35</td></tr><tr><td>1977</td><td>-10.682</td><td>37</td></tr><tr><td>1978</td><td>-10.754</td><td>37</td></tr><tr><td>1979</td><td>-11.127</td><td>37</td></tr><tr><td>1980</td><td>-11.318</td><td>36</td></tr><tr><td>1981</td><td>-11.394</td><td>35</td></tr><tr><td>1982</td><td>-11.849</td><td>36</td></tr><tr><td>1983</td><td>-11.846</td><td>37</td></tr><tr><td>1984</td><td>-11.902</td><td>37</td></tr><tr><td>1985</td><td>-12.238</td><td>37</td></tr><tr><td>1986</td><td>-12.782</td><td>37</td></tr><tr><td>1987</td><td>-12.795</td><td>37</td></tr><tr><td>1988</td><td>-13.26</td><td>37</td></tr><tr><td>1989</td><td>-13.343</td><td>37</td></tr><tr><td>1990</td><td>-13.687</td><td>37</td></tr><tr><td>1991</td><td>-14.255</td><td>37</td></tr><tr><td>1992</td><td>-14.501</td><td>36</td></tr><tr><td>1993</td><td>-14.695</td><td>37</td></tr><tr><td>1994</td><td>-15.276</td><td>37</td></tr><tr><td>1995</td><td>-15.486</td><td>37</td></tr><tr><td>1996</td><td>-15.89</td><td>37</td></tr><tr><td>1997</td><td>-16.487</td><td>37</td></tr><tr><td>1998</td><td>-17.31</td><td>37</td></tr><tr><td>1999</td><td>-17.697</td><td>37</td></tr></tbody></table></div>"
      ]
     },
     "metadata": {
      "application/vnd.databricks.v1+output": {
       "addedWidgets": {},
       "aggData": [],
       "aggError": "",
       "aggOverflow": false,
       "aggSchema": [],
       "aggSeriesLimitReached": false,
       "aggType": "",
       "arguments": {},
       "columnCustomDisplayInfos": {},
       "data": [
        [
         "1945",
         "0",
         null
        ],
        [
         "1946",
         "-1.13",
         "1"
        ],
        [
         "1947",
         "-3.19",
         "1"
        ],
        [
         "1948",
         "-3.19",
         "1"
        ],
        [
         "1949",
         "-3.82",
         "3"
        ],
        [
         "1950",
         "-4.887",
         "3"
        ],
        [
         "1951",
         "-5.217",
         "3"
        ],
        [
         "1952",
         "-5.707",
         "3"
        ],
        [
         "1953",
         "-6.341",
         "7"
        ],
        [
         "1954",
         "-6.825",
         "6"
        ],
        [
         "1955",
         "-6.575",
         "7"
        ],
        [
         "1956",
         "-6.814",
         "7"
        ],
        [
         "1957",
         "-6.989",
         "9"
        ],
        [
         "1958",
         "-7.693",
         "9"
        ],
        [
         "1959",
         "-8.325",
         "11"
        ],
        [
         "1960",
         "-8.688",
         "14"
        ],
        [
         "1961",
         "-8.935",
         "15"
        ],
        [
         "1962",
         "-9.109",
         "20"
        ],
        [
         "1963",
         "-9.567",
         "22"
        ],
        [
         "1964",
         "-9.699",
         "22"
        ],
        [
         "1965",
         "-9.298",
         "24"
        ],
        [
         "1966",
         "-9.436",
         "27"
        ],
        [
         "1967",
         "-9.303",
         "29"
        ],
        [
         "1968",
         "-9.219",
         "31"
        ],
        [
         "1969",
         "-9.732",
         "31"
        ],
        [
         "1970",
         "-10.128",
         "32"
        ],
        [
         "1971",
         "-10.288",
         "32"
        ],
        [
         "1972",
         "-10.441",
         "32"
        ],
        [
         "1973",
         "-10.538",
         "32"
        ],
        [
         "1974",
         "-10.613",
         "32"
        ],
        [
         "1975",
         "-10.534",
         "33"
        ],
        [
         "1976",
         "-10.633",
         "35"
        ],
        [
         "1977",
         "-10.682",
         "37"
        ],
        [
         "1978",
         "-10.754",
         "37"
        ],
        [
         "1979",
         "-11.127",
         "37"
        ],
        [
         "1980",
         "-11.318",
         "36"
        ],
        [
         "1981",
         "-11.394",
         "35"
        ],
        [
         "1982",
         "-11.849",
         "36"
        ],
        [
         "1983",
         "-11.846",
         "37"
        ],
        [
         "1984",
         "-11.902",
         "37"
        ],
        [
         "1985",
         "-12.238",
         "37"
        ],
        [
         "1986",
         "-12.782",
         "37"
        ],
        [
         "1987",
         "-12.795",
         "37"
        ],
        [
         "1988",
         "-13.26",
         "37"
        ],
        [
         "1989",
         "-13.343",
         "37"
        ],
        [
         "1990",
         "-13.687",
         "37"
        ],
        [
         "1991",
         "-14.255",
         "37"
        ],
        [
         "1992",
         "-14.501",
         "36"
        ],
        [
         "1993",
         "-14.695",
         "37"
        ],
        [
         "1994",
         "-15.276",
         "37"
        ],
        [
         "1995",
         "-15.486",
         "37"
        ],
        [
         "1996",
         "-15.89",
         "37"
        ],
        [
         "1997",
         "-16.487",
         "37"
        ],
        [
         "1998",
         "-17.31",
         "37"
        ],
        [
         "1999",
         "-17.697",
         "37"
        ]
       ],
       "datasetInfos": [],
       "dbfsResultPath": null,
       "isJsonSchema": true,
       "metadata": {},
       "overflow": false,
       "plotOptions": {
        "customPlotOptions": {},
        "displayType": "table",
        "pivotAggregation": null,
        "pivotColumns": null,
        "xColumns": null,
        "yColumns": null
       },
       "removedWidgets": [],
       "schema": [
        {
         "metadata": "{}",
         "name": "Year",
         "type": "\"string\""
        },
        {
         "metadata": "{}",
         "name": "Mean cumulative mass balance",
         "type": "\"string\""
        },
        {
         "metadata": "{}",
         "name": "Number of observations",
         "type": "\"string\""
        }
       ],
       "type": "table"
      }
     },
     "output_type": "display_data"
    }
   ],
   "source": [
    "display(nintys_df)"
   ]
  },
  {
   "cell_type": "code",
   "execution_count": 0,
   "metadata": {
    "application/vnd.databricks.v1+cell": {
     "cellMetadata": {
      "byteLimit": 2048000,
      "rowLimit": 10000
     },
     "inputWidgets": {},
     "nuid": "49722761-f6a0-43bf-af59-4c6051a98c5e",
     "showTitle": false,
     "title": ""
    }
   },
   "outputs": [
    {
     "output_type": "display_data",
     "data": {
      "text/html": [
       "<style scoped>\n",
       "  .table-result-container {\n",
       "    max-height: 300px;\n",
       "    overflow: auto;\n",
       "  }\n",
       "  table, th, td {\n",
       "    border: 1px solid black;\n",
       "    border-collapse: collapse;\n",
       "  }\n",
       "  th, td {\n",
       "    padding: 5px;\n",
       "  }\n",
       "  th {\n",
       "    text-align: left;\n",
       "  }\n",
       "</style><div class='table-result-container'><table class='table-result'><thead style='background-color: white'><tr><th>Year</th><th>Mean cumulative mass balance</th><th>Number of observations</th></tr></thead><tbody><tr><td>2000</td><td>-17.727</td><td>37</td></tr><tr><td>2001</td><td>-18.032</td><td>37</td></tr><tr><td>2002</td><td>-18.726</td><td>37</td></tr><tr><td>2003</td><td>-19.984</td><td>37</td></tr><tr><td>2004</td><td>-20.703</td><td>37</td></tr><tr><td>2005</td><td>-21.405</td><td>37</td></tr><tr><td>2006</td><td>-22.595</td><td>37</td></tr><tr><td>2007</td><td>-23.255</td><td>37</td></tr><tr><td>2008</td><td>-23.776</td><td>37</td></tr><tr><td>2009</td><td>-24.459</td><td>37</td></tr><tr><td>2010</td><td>-25.158</td><td>37</td></tr><tr><td>2011</td><td>-26.294</td><td>37</td></tr><tr><td>2012</td><td>-26.93</td><td>36</td></tr><tr><td>2013</td><td>-27.817</td><td>31</td></tr><tr><td>2014</td><td>-28.652</td><td>24</td></tr></tbody></table></div>"
      ]
     },
     "metadata": {
      "application/vnd.databricks.v1+output": {
       "addedWidgets": {},
       "aggData": [],
       "aggError": "",
       "aggOverflow": false,
       "aggSchema": [],
       "aggSeriesLimitReached": false,
       "aggType": "",
       "arguments": {},
       "columnCustomDisplayInfos": {},
       "data": [
        [
         "2000",
         "-17.727",
         "37"
        ],
        [
         "2001",
         "-18.032",
         "37"
        ],
        [
         "2002",
         "-18.726",
         "37"
        ],
        [
         "2003",
         "-19.984",
         "37"
        ],
        [
         "2004",
         "-20.703",
         "37"
        ],
        [
         "2005",
         "-21.405",
         "37"
        ],
        [
         "2006",
         "-22.595",
         "37"
        ],
        [
         "2007",
         "-23.255",
         "37"
        ],
        [
         "2008",
         "-23.776",
         "37"
        ],
        [
         "2009",
         "-24.459",
         "37"
        ],
        [
         "2010",
         "-25.158",
         "37"
        ],
        [
         "2011",
         "-26.294",
         "37"
        ],
        [
         "2012",
         "-26.93",
         "36"
        ],
        [
         "2013",
         "-27.817",
         "31"
        ],
        [
         "2014",
         "-28.652",
         "24"
        ]
       ],
       "datasetInfos": [],
       "dbfsResultPath": null,
       "isJsonSchema": true,
       "metadata": {},
       "overflow": false,
       "plotOptions": {
        "customPlotOptions": {},
        "displayType": "table",
        "pivotAggregation": null,
        "pivotColumns": null,
        "xColumns": null,
        "yColumns": null
       },
       "removedWidgets": [],
       "schema": [
        {
         "metadata": "{}",
         "name": "Year",
         "type": "\"string\""
        },
        {
         "metadata": "{}",
         "name": "Mean cumulative mass balance",
         "type": "\"string\""
        },
        {
         "metadata": "{}",
         "name": "Number of observations",
         "type": "\"string\""
        }
       ],
       "type": "table"
      }
     },
     "output_type": "display_data"
    }
   ],
   "source": [
    "display(modern_df)"
   ]
  },
  {
   "cell_type": "code",
   "execution_count": 0,
   "metadata": {
    "application/vnd.databricks.v1+cell": {
     "cellMetadata": {
      "byteLimit": 2048000,
      "implicitDf": true,
      "rowLimit": 10000
     },
     "inputWidgets": {},
     "nuid": "0a5bfd6b-3c7f-4c38-b22b-61096baab97f",
     "showTitle": false,
     "title": ""
    }
   },
   "outputs": [],
   "source": [
    "#Create temporary views with the first and last rows of each era.\n",
    "nintys_file_namez = spark.sql(\"(select * from nintys order by Year ASC limit 1) union (select * from nintys order by Year DESC limit 1)\")\n",
    "modern_file_namez = spark.sql(\"(select * from modern order by Year ASC limit 1) union (select * from modern order by Year DESC limit 1)\")"
   ]
  },
  {
   "cell_type": "code",
   "execution_count": 0,
   "metadata": {
    "application/vnd.databricks.v1+cell": {
     "cellMetadata": {
      "byteLimit": 2048000,
      "rowLimit": 10000
     },
     "inputWidgets": {},
     "nuid": "c5bb7d0e-e742-44de-89e4-36eeaea61096",
     "showTitle": false,
     "title": ""
    }
   },
   "outputs": [
    {
     "output_type": "display_data",
     "data": {
      "text/html": [
       "<style scoped>\n",
       "  .table-result-container {\n",
       "    max-height: 300px;\n",
       "    overflow: auto;\n",
       "  }\n",
       "  table, th, td {\n",
       "    border: 1px solid black;\n",
       "    border-collapse: collapse;\n",
       "  }\n",
       "  th, td {\n",
       "    padding: 5px;\n",
       "  }\n",
       "  th {\n",
       "    text-align: left;\n",
       "  }\n",
       "</style><div class='table-result-container'><table class='table-result'><thead style='background-color: white'><tr><th>Year</th><th>Mean cumulative mass balance</th><th>Number of observations</th></tr></thead><tbody><tr><td>1945</td><td>0</td><td>null</td></tr><tr><td>1999</td><td>-17.697</td><td>37</td></tr></tbody></table></div>"
      ]
     },
     "metadata": {
      "application/vnd.databricks.v1+output": {
       "addedWidgets": {},
       "aggData": [],
       "aggError": "",
       "aggOverflow": false,
       "aggSchema": [],
       "aggSeriesLimitReached": false,
       "aggType": "",
       "arguments": {},
       "columnCustomDisplayInfos": {},
       "data": [
        [
         "1945",
         "0",
         null
        ],
        [
         "1999",
         "-17.697",
         "37"
        ]
       ],
       "datasetInfos": [],
       "dbfsResultPath": null,
       "isJsonSchema": true,
       "metadata": {},
       "overflow": false,
       "plotOptions": {
        "customPlotOptions": {},
        "displayType": "table",
        "pivotAggregation": null,
        "pivotColumns": null,
        "xColumns": null,
        "yColumns": null
       },
       "removedWidgets": [],
       "schema": [
        {
         "metadata": "{}",
         "name": "Year",
         "type": "\"string\""
        },
        {
         "metadata": "{}",
         "name": "Mean cumulative mass balance",
         "type": "\"string\""
        },
        {
         "metadata": "{}",
         "name": "Number of observations",
         "type": "\"string\""
        }
       ],
       "type": "table"
      }
     },
     "output_type": "display_data"
    }
   ],
   "source": [
    "display(nintys_file_namez)"
   ]
  },
  {
   "cell_type": "code",
   "execution_count": 0,
   "metadata": {
    "application/vnd.databricks.v1+cell": {
     "cellMetadata": {
      "byteLimit": 2048000,
      "rowLimit": 10000
     },
     "inputWidgets": {},
     "nuid": "8ad0f080-54da-42ff-83ed-0c8ed3335b88",
     "showTitle": false,
     "title": ""
    }
   },
   "outputs": [
    {
     "output_type": "display_data",
     "data": {
      "text/html": [
       "<style scoped>\n",
       "  .table-result-container {\n",
       "    max-height: 300px;\n",
       "    overflow: auto;\n",
       "  }\n",
       "  table, th, td {\n",
       "    border: 1px solid black;\n",
       "    border-collapse: collapse;\n",
       "  }\n",
       "  th, td {\n",
       "    padding: 5px;\n",
       "  }\n",
       "  th {\n",
       "    text-align: left;\n",
       "  }\n",
       "</style><div class='table-result-container'><table class='table-result'><thead style='background-color: white'><tr><th>Year</th><th>Mean cumulative mass balance</th><th>Number of observations</th></tr></thead><tbody><tr><td>2000</td><td>-17.727</td><td>37</td></tr><tr><td>2014</td><td>-28.652</td><td>24</td></tr></tbody></table></div>"
      ]
     },
     "metadata": {
      "application/vnd.databricks.v1+output": {
       "addedWidgets": {},
       "aggData": [],
       "aggError": "",
       "aggOverflow": false,
       "aggSchema": [],
       "aggSeriesLimitReached": false,
       "aggType": "",
       "arguments": {},
       "columnCustomDisplayInfos": {},
       "data": [
        [
         "2000",
         "-17.727",
         "37"
        ],
        [
         "2014",
         "-28.652",
         "24"
        ]
       ],
       "datasetInfos": [],
       "dbfsResultPath": null,
       "isJsonSchema": true,
       "metadata": {},
       "overflow": false,
       "plotOptions": {
        "customPlotOptions": {},
        "displayType": "table",
        "pivotAggregation": null,
        "pivotColumns": null,
        "xColumns": null,
        "yColumns": null
       },
       "removedWidgets": [],
       "schema": [
        {
         "metadata": "{}",
         "name": "Year",
         "type": "\"string\""
        },
        {
         "metadata": "{}",
         "name": "Mean cumulative mass balance",
         "type": "\"string\""
        },
        {
         "metadata": "{}",
         "name": "Number of observations",
         "type": "\"string\""
        }
       ],
       "type": "table"
      }
     },
     "output_type": "display_data"
    }
   ],
   "source": [
    "display(modern_file_namez)"
   ]
  },
  {
   "cell_type": "code",
   "execution_count": 0,
   "metadata": {
    "application/vnd.databricks.v1+cell": {
     "cellMetadata": {
      "byteLimit": 2048000,
      "rowLimit": 10000
     },
     "inputWidgets": {},
     "nuid": "ea403ebd-7878-435a-8151-307159bdb008",
     "showTitle": false,
     "title": ""
    }
   },
   "outputs": [],
   "source": [
    "modern_file_namez_df = modern_file_namez.collect()"
   ]
  },
  {
   "cell_type": "code",
   "execution_count": 0,
   "metadata": {
    "application/vnd.databricks.v1+cell": {
     "cellMetadata": {
      "byteLimit": 2048000,
      "rowLimit": 10000
     },
     "inputWidgets": {},
     "nuid": "1b8b9a0c-f4bf-48ac-bf84-44b0ccf78ace",
     "showTitle": false,
     "title": ""
    }
   },
   "outputs": [],
   "source": [
    "modern_file_name = f\"{modern_file_namez_df[0]['Year']}-{modern_file_namez_df[1]['Year']}\""
   ]
  },
  {
   "cell_type": "code",
   "execution_count": 0,
   "metadata": {
    "application/vnd.databricks.v1+cell": {
     "cellMetadata": {
      "byteLimit": 2048000,
      "rowLimit": 10000
     },
     "inputWidgets": {},
     "nuid": "54cfab6e-b832-4ad1-bc42-d57027132159",
     "showTitle": false,
     "title": ""
    }
   },
   "outputs": [],
   "source": [
    "def create_file_names():\n",
    "    # Retrieve the first and last years from the 'nintys' view for the 1990s era\n",
    "    nintys_file_namez = spark.sql(\"(select * from nintys order by Year ASC limit 1) union (select * from nintys order by Year DESC limit 1)\")\n",
    "    \n",
    "    # Retrieve the first and last years from the 'modern' view for the modern era\n",
    "    modern_file_namez = spark.sql(\"(select * from modern order by Year ASC limit 1) union (select * from modern order by Year DESC limit 1)\")\n",
    "    \n",
    "    # Collect the results of the SQL queries into DataFrames\n",
    "    nintys_file_namez_df = nintys_file_namez.collect()\n",
    "    modern_file_namez_df = modern_file_namez.collect()\n",
    "    \n",
    "    # Extract the 'Year' values from the DataFrames and create a formatted string for the 1990s era\n",
    "    nintys_file_name = nintys_file_namez_df[0].__getitem__('Year') + \"-\" + nintys_file_namez_df[1].__getitem__('Year') \n",
    "    \n",
    "    # Extract the 'Year' values from the DataFrames and create a formatted string for the modern era\n",
    "    modern_file_name = modern_file_namez_df[0].__getitem__('Year') + \"-\" + modern_file_namez_df[1].__getitem__('Year') \n",
    "    \n",
    "    # Return the formatted file names for both eras\n",
    "    return nintys_file_name, modern_file_name"
   ]
  },
  {
   "cell_type": "code",
   "execution_count": 0,
   "metadata": {
    "application/vnd.databricks.v1+cell": {
     "cellMetadata": {
      "byteLimit": 2048000,
      "rowLimit": 10000
     },
     "inputWidgets": {},
     "nuid": "83dec6ba-b78b-41ad-95c3-bd165dd91f7b",
     "showTitle": false,
     "title": ""
    }
   },
   "outputs": [],
   "source": [
    "#Use the create_file_names function to get and print the formatted year ranges.\n",
    "m,n = create_file_names()"
   ]
  },
  {
   "cell_type": "code",
   "execution_count": 0,
   "metadata": {
    "application/vnd.databricks.v1+cell": {
     "cellMetadata": {
      "byteLimit": 2048000,
      "rowLimit": 10000
     },
     "inputWidgets": {},
     "nuid": "c5ddc759-fbf4-4e4f-97c0-14516fea1a87",
     "showTitle": false,
     "title": ""
    }
   },
   "outputs": [
    {
     "output_type": "stream",
     "name": "stdout",
     "output_type": "stream",
     "text": [
      "1945-1999 2000-2014\n"
     ]
    }
   ],
   "source": [
    "print(m, n)"
   ]
  },
  {
   "cell_type": "code",
   "execution_count": 0,
   "metadata": {
    "application/vnd.databricks.v1+cell": {
     "cellMetadata": {
      "byteLimit": 2048000,
      "rowLimit": 10000
     },
     "inputWidgets": {},
     "nuid": "090fb4bf-5021-4def-bfef-ed49c2867884",
     "showTitle": false,
     "title": ""
    }
   },
   "outputs": [],
   "source": [
    "nintys_df.write.format('parquet').save(\"/dbfs/nintysdf.parquet\")"
   ]
  },
  {
   "cell_type": "code",
   "execution_count": 0,
   "metadata": {
    "application/vnd.databricks.v1+cell": {
     "cellMetadata": {
      "byteLimit": 2048000,
      "rowLimit": 10000
     },
     "inputWidgets": {},
     "nuid": "8427bb22-fe81-492d-b0a4-e98c3605f115",
     "showTitle": false,
     "title": ""
    }
   },
   "outputs": [],
   "source": [
    "#Define a function write_df to write DataFrames to different file formats.\n",
    "def write_df(file_type: str,dfs, file_names):\n",
    "  for x,y in zip(dfs,file_names):\n",
    "    m = x.write.format(file_type).save(\"/dbfs/{}.{}\".format(y, file_type))\n",
    "  return m "
   ]
  },
  {
   "cell_type": "code",
   "execution_count": 0,
   "metadata": {
    "application/vnd.databricks.v1+cell": {
     "cellMetadata": {
      "byteLimit": 2048000,
      "rowLimit": 10000
     },
     "inputWidgets": {},
     "nuid": "45a7f661-a087-497f-8f8e-d7ece7e9b1df",
     "showTitle": false,
     "title": ""
    }
   },
   "outputs": [],
   "source": [
    "def write_df(file_type: str, dfs, file_names, mode=\"error\"):\n",
    "    for x, y in zip(dfs, file_names):\n",
    "        m = x.write.format(file_type).mode(mode).save(\"/dbfs/{}.{}\".format(y, file_type))\n",
    "    return m"
   ]
  },
  {
   "cell_type": "code",
   "execution_count": 0,
   "metadata": {
    "application/vnd.databricks.v1+cell": {
     "cellMetadata": {
      "byteLimit": 2048000,
      "rowLimit": 10000
     },
     "inputWidgets": {},
     "nuid": "724dacab-b97f-4c30-8968-7f2b719fecbf",
     "showTitle": false,
     "title": ""
    }
   },
   "outputs": [],
   "source": [
    "write_df(\"parquet\", [x, y], [m, n], mode=\"overwrite\")"
   ]
  },
  {
   "cell_type": "code",
   "execution_count": 0,
   "metadata": {
    "application/vnd.databricks.v1+cell": {
     "cellMetadata": {
      "byteLimit": 2048000,
      "rowLimit": 10000
     },
     "inputWidgets": {},
     "nuid": "53883c29-f627-4ee6-971f-f9ec7186f559",
     "showTitle": false,
     "title": ""
    }
   },
   "outputs": [],
   "source": [
    "write_df(\"parquet\", [x, y], [\"new_{}\".format(m), \"new_{}\".format(n)])"
   ]
  },
  {
   "cell_type": "code",
   "execution_count": 0,
   "metadata": {
    "application/vnd.databricks.v1+cell": {
     "cellMetadata": {
      "byteLimit": 2048000,
      "rowLimit": 10000
     },
     "inputWidgets": {},
     "nuid": "400a7be0-ffdc-4270-92e4-7b3b3c4896ca",
     "showTitle": false,
     "title": ""
    }
   },
   "outputs": [
    {
     "output_type": "execute_result",
     "data": {
      "text/plain": [
       "[FileInfo(path='dbfs:/dbfs/1945-1999.parquet/', name='1945-1999.parquet/', size=0, modificationTime=1704393132000),\n",
       " FileInfo(path='dbfs:/dbfs/2000-2014.parquet/', name='2000-2014.parquet/', size=0, modificationTime=1704393133000),\n",
       " FileInfo(path='dbfs:/dbfs/new_1945-1999.parquet/', name='new_1945-1999.parquet/', size=0, modificationTime=1704400389000),\n",
       " FileInfo(path='dbfs:/dbfs/new_2000-2014.parquet/', name='new_2000-2014.parquet/', size=0, modificationTime=1704400390000),\n",
       " FileInfo(path='dbfs:/dbfs/new_nintys_df.parquet/', name='new_nintys_df.parquet/', size=0, modificationTime=1704398358000),\n",
       " FileInfo(path='dbfs:/dbfs/nintys.parquet/', name='nintys.parquet/', size=0, modificationTime=1704400142000),\n",
       " FileInfo(path='dbfs:/dbfs/nintys_df.parquet/', name='nintys_df.parquet/', size=0, modificationTime=1704393106000),\n",
       " FileInfo(path='dbfs:/dbfs/nintysdf.parquet/', name='nintysdf.parquet/', size=0, modificationTime=1704400225000)]"
      ]
     },
     "execution_count": 78,
     "metadata": {},
     "output_type": "execute_result"
    }
   ],
   "source": [
    "#List the files in the Databricks File System.\n",
    "dbutils.fs.ls('/dbfs/')"
   ]
  },
  {
   "cell_type": "code",
   "execution_count": 0,
   "metadata": {
    "application/vnd.databricks.v1+cell": {
     "cellMetadata": {},
     "inputWidgets": {},
     "nuid": "bcb5d2c2-cf11-4104-99d2-77840c31ac4c",
     "showTitle": false,
     "title": ""
    }
   },
   "outputs": [],
   "source": []
  }
 ],
 "metadata": {
  "application/vnd.databricks.v1+notebook": {
   "dashboards": [],
   "language": "python",
   "notebookMetadata": {
    "mostRecentlyExecutedCommandWithImplicitDF": {
     "commandId": -1,
     "dataframes": [
      "_sqldf"
     ]
    },
    "pythonIndentUnit": 4
   },
   "notebookName": "Notebook sans titre 2024-01-04 16:37:59",
   "widgets": {}
  }
 },
 "nbformat": 4,
 "nbformat_minor": 0
}
